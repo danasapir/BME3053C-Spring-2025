{
  "nbformat": 4,
  "nbformat_minor": 0,
  "metadata": {
    "colab": {
      "provenance": [],
      "authorship_tag": "ABX9TyMKlUo1rs51mJULe/T2plKI",
      "include_colab_link": true
    },
    "kernelspec": {
      "name": "python3",
      "display_name": "Python 3"
    },
    "language_info": {
      "name": "python"
    }
  },
  "cells": [
    {
      "cell_type": "markdown",
      "metadata": {
        "id": "view-in-github",
        "colab_type": "text"
      },
      "source": [
        "<a href=\"https://colab.research.google.com/github/danasapir/BME3053C-Spring-2025/blob/main/HWs/Homework_03.ipynb\" target=\"_parent\"><img src=\"https://colab.research.google.com/assets/colab-badge.svg\" alt=\"Open In Colab\"/></a>"
      ]
    },
    {
      "cell_type": "code",
      "execution_count": 8,
      "metadata": {
        "colab": {
          "base_uri": "https://localhost:8080/"
        },
        "id": "lNywFCUEU0DD",
        "outputId": "3cf3839a-bb18-4970-9136-f68b91176c56"
      },
      "outputs": [
        {
          "output_type": "stream",
          "name": "stdout",
          "text": [
            "Number of Peaks: 27\n"
          ]
        }
      ],
      "source": [
        "# Homework 3\n",
        "'''\n",
        "Create a function that receives a list as an input argument and uses a for loop with range to iterate through the PPG signal values and identify peaks.\n",
        "  A peak is a signal point where the value is greater than its immediate neighbors.\n",
        "  Specifically, for a value at index i to be considered a peak, it must satisfy:\n",
        "    ppg_signal[i] > ppg_signal[i - 1]\n",
        "    ppg_signal[i] > ppg_signal[i + 1]\n",
        "Your function should count the total number of peaks and print that value.\n",
        "Call your function with ppg_signal as the input.\n",
        "'''\n",
        "\n",
        "import math\n",
        "import random\n",
        "\n",
        "ppg_signal = [1000 + 100 * math.sin(0.1 * x) + random.randint(-20, 20) for x in range(100)]\n",
        "\n",
        "def ppg_peaks(ppg_signal_in):\n",
        "  count = 0\n",
        "  for i in range(1, len(ppg_signal) - 1):\n",
        "    if ppg_signal_in[i] > ppg_signal_in[i - 1] and ppg_signal_in[i] > ppg_signal_in[i + 1]:\n",
        "      count += 1\n",
        "      #print(ppg_signal_in[i])\n",
        "  print('Number of Peaks:',count)\n",
        "\n",
        "ppg_peaks(ppg_signal)"
      ]
    }
  ]
}