{
  "nbformat": 4,
  "nbformat_minor": 0,
  "metadata": {
    "colab": {
      "provenance": [],
      "authorship_tag": "ABX9TyO7ufVOdZPXjbudFF2t0D18",
      "include_colab_link": true
    },
    "kernelspec": {
      "name": "python3",
      "display_name": "Python 3"
    },
    "language_info": {
      "name": "python"
    }
  },
  "cells": [
    {
      "cell_type": "markdown",
      "metadata": {
        "id": "view-in-github",
        "colab_type": "text"
      },
      "source": [
        "<a href=\"https://colab.research.google.com/github/danasapir/BME3053C-Spring-2025/blob/main/HWs/Homework_02.ipynb\" target=\"_parent\"><img src=\"https://colab.research.google.com/assets/colab-badge.svg\" alt=\"Open In Colab\"/></a>"
      ]
    },
    {
      "cell_type": "code",
      "execution_count": 7,
      "metadata": {
        "colab": {
          "base_uri": "https://localhost:8080/"
        },
        "id": "Y3eKdABhyn-R",
        "outputId": "cb4cf8be-64fe-4812-e05c-c7551c16031f"
      },
      "outputs": [
        {
          "output_type": "stream",
          "name": "stdout",
          "text": [
            "List of Systolic Blood Pressure Readings: \n",
            "\t[120, 137, 151, 123, 162, 173, 127, 154]\n",
            "List of Normalized Blood Pressure Readings: \n",
            "\t[0.0, 0.32075471698113206, 0.5849056603773585, 0.05660377358490566, 0.7924528301886793, 1.0, 0.1320754716981132, 0.6415094339622641]\n"
          ]
        }
      ],
      "source": [
        "'''\n",
        "Homework 02\n",
        "\n",
        "You have a list of systolic blood pressure readings (in mmHg) collected from a patient over time.\n",
        "For further analysis, you need to normalize them to a scale from 0 to 1. The formula to normalize a value x is:\n",
        "  normalized_value = (x - min_value) / (max_value - min_value)\n",
        "\n",
        "Where min_value is the minimum value in the list, and max_value is the maximum value in the list.​\n",
        "For the list of systolic blood pressure readings below, complete the following:\n",
        "  bp_readings = [120, 137, 151, 123, 162, 173, 127, 154]\n",
        "\n",
        "1. Create a new script or a notebook on Colab and copy the list above into the first cell.\n",
        "2. Create a function that will receive an array as an input and:\n",
        "    A. Use built-in Python functions to find the min and max of the array.\n",
        "    B. Use a for loop to iterate through the list and normalize each reading using the formula provided.\n",
        "    C. Return a list that contains normalized values.\n",
        "3. Call your function and print the output.\n",
        "'''\n",
        "\n",
        "bp_readings = [120, 137, 151, 123, 162, 173, 127, 154]\n",
        "\n",
        "def list_normalize_values(bp_readings_values):\n",
        "  print(f'List of Systolic Blood Pressure Readings: \\n\\t{bp_readings_values}')\n",
        "  normalized_list = []\n",
        "  min_value = min(bp_readings_values)\n",
        "  max_value = max(bp_readings_values)\n",
        "\n",
        "  for value in bp_readings_values:\n",
        "    normalized_value = (value - min_value)/(max_value - min_value)\n",
        "    normalized_list.append(normalized_value)\n",
        "\n",
        "  print(f'List of Normalized Blood Pressure Readings: \\n\\t{normalized_list}')\n",
        "\n",
        "list_normalize_values(bp_readings)"
      ]
    }
  ]
}